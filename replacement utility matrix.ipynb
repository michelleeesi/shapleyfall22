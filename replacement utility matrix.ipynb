{
 "cells": [
  {
   "cell_type": "code",
   "execution_count": 1,
   "id": "87a9c708",
   "metadata": {},
   "outputs": [],
   "source": [
    "import numpy as np\n",
    "from collections.abc import Iterable\n",
    "import itertools\n",
    "from itertools import chain, combinations"
   ]
  },
  {
   "cell_type": "code",
   "execution_count": 2,
   "id": "dfee1b8e",
   "metadata": {},
   "outputs": [],
   "source": [
    "# random partition of data into A, B, C data owners\n",
    "def partition(data, num, num_players):\n",
    "    split_points = np.random.choice(num - 1, num_players - 1, replace=False) + 1\n",
    "    split_points.sort()\n",
    "    div = list(np.split(data, split_points))\n",
    "    if (pseudoShap(data, div[0],div[2])>pseudoShap(data, div[1],div[2])): # fulfilling precondition that S(A) > S(B)\n",
    "        return div\n",
    "    else:\n",
    "        return partition(data, num, num_players)"
   ]
  },
  {
   "cell_type": "code",
   "execution_count": 3,
   "id": "b73a03b7",
   "metadata": {},
   "outputs": [],
   "source": [
    "# used for creating all possible subsets of A data to shift over to B data\n",
    "def powerset(iterable):\n",
    "    s = list(iterable)\n",
    "    return chain.from_iterable(combinations(s, r) for r in range(1,len(s)+1))"
   ]
  },
  {
   "cell_type": "code",
   "execution_count": 4,
   "id": "9ceabfbe",
   "metadata": {},
   "outputs": [],
   "source": [
    "# utility of a coalition - number of data points (each 1) + max replacement utility of missing data\n",
    "def utility(full_data, data):\n",
    "    missing = list(set(full_data)-set(data))\n",
    "    return len(data)+findMax(sim_matrix,data,missing)"
   ]
  },
  {
   "cell_type": "code",
   "execution_count": 5,
   "id": "b5a664fb",
   "metadata": {},
   "outputs": [],
   "source": [
    "# finding the max replacement utility of missing data\n",
    "def findMax(similarity_matrix, have, not_have):\n",
    "    s = 0\n",
    "    for j in not_have:\n",
    "        arr=[]\n",
    "        for i in have:\n",
    "            arr.append(similarity_matrix[i-1][j-1])\n",
    "        if (len(arr)>0):\n",
    "            s+=max(arr)\n",
    "    return s"
   ]
  },
  {
   "cell_type": "code",
   "execution_count": 6,
   "id": "90bbe721",
   "metadata": {},
   "outputs": [],
   "source": [
    "# pseudo-Shapley value for our \"two player\" game, for ex. U(B union C) - U(C) where C is the base data/algorithm\n",
    "def pseudoShap(all_data, target, base_data):\n",
    "    return (utility(all_data, list(target)+list(base_data))-utility(all_data,base_data))"
   ]
  },
  {
   "cell_type": "code",
   "execution_count": 7,
   "id": "9e3bb4da",
   "metadata": {},
   "outputs": [],
   "source": [
    "# helper function for flattening array of arrays\n",
    "def flatten(xs):\n",
    "    for x in xs:\n",
    "        if isinstance(x, Iterable) and not isinstance(x, (str, bytes)):\n",
    "            yield from flatten(x)\n",
    "        else:\n",
    "            yield x"
   ]
  },
  {
   "cell_type": "code",
   "execution_count": 8,
   "id": "50a5594b",
   "metadata": {},
   "outputs": [],
   "source": [
    "n_data = 10 # total number of data points\n",
    "n_owners = 3 # number of data owners, C is the \"base\" data\n",
    "full_data = range(1,n_data) # full set of data\n",
    "sim_matrix = np.random.random((n_data-1, n_data-1)) # replacement utility matrix (similarity matrix)\n",
    "np.fill_diagonal(sim_matrix, 0) # filling diagonals with 0 because a data entry cannot be used to replace itself (would mess up max replacement calculations)"
   ]
  },
  {
   "cell_type": "code",
   "execution_count": 9,
   "id": "fc6727f8",
   "metadata": {},
   "outputs": [],
   "source": [
    "division = partition(full_data, n_data, n_owners) # randomly dividing the data amongst 3 owners\n",
    "#to_shift = list(powerset(division[0])) # list of all possible subsets from A to shift\n",
    "to_shift = list(itertools.combinations(division[0] , 1)) # list of all single tuples from A to shift"
   ]
  },
  {
   "cell_type": "code",
   "execution_count": 10,
   "id": "260dd64c",
   "metadata": {},
   "outputs": [
    {
     "name": "stdout",
     "output_type": "stream",
     "text": [
      "Starting utilities and Shapley values:\n",
      "U(A): 8.199463702666925\n",
      "U(B): 6.520879947274746\n",
      "S(A): 0.7175797353001894\n",
      "S(B): 0.6528272405761104\n"
     ]
    }
   ],
   "source": [
    "print(\"Starting utilities and Shapley values:\")\n",
    "print(\"U(A): \"+ str(utility(full_data, list(division[0]))))\n",
    "print(\"U(B): \"+ str(utility(full_data, list(division[1]))))\n",
    "print(\"S(A): \"+ str(pseudoShap(full_data,list(division[0]),list(division[2]))))\n",
    "print(\"S(B): \"+ str(pseudoShap(full_data,list(division[1]),list(division[2]))))"
   ]
  },
  {
   "cell_type": "code",
   "execution_count": 11,
   "id": "32ca8b53",
   "metadata": {},
   "outputs": [],
   "source": [
    "def shiftShapCalc(full, div_list, shift_tuples):\n",
    "    A = list(div_list[0])\n",
    "    B = list(div_list[1])\n",
    "    C = list(div_list[2])\n",
    "    utilA = []\n",
    "    utilB = []\n",
    "    shapA = []\n",
    "    shapB = []\n",
    "    for i in shift_tuples:\n",
    "        newA = list(set(A)-set(i))\n",
    "        newB = list(np.append(B, list(i)))\n",
    "        utilA.append(utility(full, newA+C)) # more interested in just newA or newA+C?\n",
    "        utilB.append(utility(full, newB+C)) # more interested in just newB or newB+C?\n",
    "        shapA.append(utility(full, newA+C)-utility(full,C))\n",
    "        shapB.append(utility(full, newB+C)-utility(full,C))\n",
    "    return [utilA, utilB, shapA, shapB]"
   ]
  },
  {
   "cell_type": "code",
   "execution_count": 12,
   "id": "3db78270",
   "metadata": {},
   "outputs": [],
   "source": [
    "results = shiftShapCalc(full_data, division, to_shift)\n",
    "switch_tuples = [] # the tuples of shifted data that switch S(A) > S(B) to S(A) <= S(B)\n",
    "for i in range(0,len(to_shift)):\n",
    "    if (results[2][i]<=results[3][i]): # checking for the switch in Shapley Value inequality\n",
    "        switch_tuples.append(to_shift[i])"
   ]
  },
  {
   "cell_type": "code",
   "execution_count": 13,
   "id": "f3aefec4",
   "metadata": {},
   "outputs": [
    {
     "data": {
      "text/plain": [
       "[(1,), (2,), (3,)]"
      ]
     },
     "execution_count": 13,
     "metadata": {},
     "output_type": "execute_result"
    }
   ],
   "source": [
    "switch_tuples"
   ]
  }
 ],
 "metadata": {
  "kernelspec": {
   "display_name": "Python 3 (ipykernel)",
   "language": "python",
   "name": "python3"
  },
  "language_info": {
   "codemirror_mode": {
    "name": "ipython",
    "version": 3
   },
   "file_extension": ".py",
   "mimetype": "text/x-python",
   "name": "python",
   "nbconvert_exporter": "python",
   "pygments_lexer": "ipython3",
   "version": "3.8.12"
  }
 },
 "nbformat": 4,
 "nbformat_minor": 5
}
